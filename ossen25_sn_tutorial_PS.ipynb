{
 "cells": [
  {
   "cell_type": "code",
   "execution_count": null,
   "id": "f2c1a2fa-55a1-40c9-b099-b9e764eb3079",
   "metadata": {
    "executionInfo": {
     "elapsed": 1,
     "status": "ok",
     "timestamp": 1750756599060,
     "user": {
      "displayName": "Jishan Duan",
      "userId": "09850316093817896654"
     },
     "user_tz": -60
    },
    "id": "f2c1a2fa-55a1-40c9-b099-b9e764eb3079"
   },
   "outputs": [],
   "source": [
    "# import the necessary libraries\n",
    "import pandas as pd\n",
    "import networkx as nx\n",
    "import matplotlib.pyplot as plt\n",
    "import numpy as np\n",
    "from urllib.parse import quote"
   ]
  },
  {
   "cell_type": "code",
   "execution_count": null,
   "id": "2GgsEaznLYgH",
   "metadata": {
    "executionInfo": {
     "elapsed": 10,
     "status": "ok",
     "timestamp": 1750756599071,
     "user": {
      "displayName": "Jishan Duan",
      "userId": "09850316093817896654"
     },
     "user_tz": -60
    },
    "id": "2GgsEaznLYgH"
   },
   "outputs": [],
   "source": [
    "# Datasets URL\n",
    "url = \"https://raw.githubusercontent.com/jishan96/OSSEN_Social_Networks/main/Data/\""
   ]
  },
  {
   "cell_type": "code",
   "execution_count": null,
   "id": "1f89cfa4-9eb1-4696-9fae-189b97875559",
   "metadata": {
    "executionInfo": {
     "elapsed": 263,
     "status": "ok",
     "timestamp": 1750756599335,
     "user": {
      "displayName": "Jishan Duan",
      "userId": "09850316093817896654"
     },
     "user_tz": -60
    },
    "id": "1f89cfa4-9eb1-4696-9fae-189b97875559"
   },
   "outputs": [],
   "source": [
    "# Adjacency matrices are available at both individual and household level. Here we perform the analysis on a household network\n",
    "adj_path = '1_Network Data/Adjacency Matrices/adj_allVillageRelationships_HH_vilno_1.csv'\n",
    "encoded_adj_path = quote(adj_path) # Construct the encoding path to the adjacency matrix for village 1\n",
    "# Read in the adjacency matrix for village 1\n",
    "df = pd.read_csv(url+encoded_adj_path, header=None)"
   ]
  },
  {
   "cell_type": "code",
   "execution_count": null,
   "id": "913ea299-9950-44a7-9afe-dd7dc089d517",
   "metadata": {
    "colab": {
     "base_uri": "https://localhost:8080/"
    },
    "executionInfo": {
     "elapsed": 4,
     "status": "ok",
     "timestamp": 1750756599340,
     "user": {
      "displayName": "Jishan Duan",
      "userId": "09850316093817896654"
     },
     "user_tz": -60
    },
    "id": "913ea299-9950-44a7-9afe-dd7dc089d517",
    "outputId": "776f7d4e-062b-42cd-8267-a2825761933b"
   },
   "outputs": [],
   "source": [
    "# Change it into matrix form\n",
    "adj_all_v1 = df.values\n",
    "print(adj_all_v1)"
   ]
  },
  {
   "cell_type": "code",
   "execution_count": null,
   "id": "3f2a468f-983c-4e37-8501-92f47dca712d",
   "metadata": {
    "colab": {
     "base_uri": "https://localhost:8080/",
     "height": 532
    },
    "executionInfo": {
     "elapsed": 156,
     "status": "ok",
     "timestamp": 1750756599497,
     "user": {
      "displayName": "Jishan Duan",
      "userId": "09850316093817896654"
     },
     "user_tz": -60
    },
    "id": "3f2a468f-983c-4e37-8501-92f47dca712d",
    "outputId": "3bf965c7-5418-4ff9-dc21-bfffc5d8a561"
   },
   "outputs": [],
   "source": [
    "# We plot the adjacency matrix - Blue:connection and White:no connection\n",
    "plt.figure(figsize=(5, 5))\n",
    "plt.rcParams.update({'font.size': 22})\n",
    "plt.imshow(adj_all_v1, cmap='Blues', interpolation='none')\n",
    "plt.gca().invert_yaxis()\n",
    "plt.title('Adjacency Matrix')\n",
    "plt.xlabel('Node ID')\n",
    "plt.ylabel('Node ID')\n",
    "plt.show()"
   ]
  },
  {
   "cell_type": "code",
   "execution_count": null,
   "id": "2a2e5f28-52b0-4399-a3ab-3ea80db69123",
   "metadata": {
    "colab": {
     "base_uri": "https://localhost:8080/"
    },
    "executionInfo": {
     "elapsed": 4,
     "status": "ok",
     "timestamp": 1750756599502,
     "user": {
      "displayName": "Jishan Duan",
      "userId": "09850316093817896654"
     },
     "user_tz": -60
    },
    "id": "2a2e5f28-52b0-4399-a3ab-3ea80db69123",
    "outputId": "7f091963-71bc-4815-a3f3-01957fff8d86"
   },
   "outputs": [],
   "source": [
    "# We generate the graph from the adjacency matrix\n",
    "G = nx.from_numpy_array(adj_all_v1)\n",
    "print(f\"Number of nodes in G: {G.number_of_nodes()}\")\n",
    "print(f\"Number of edges in G: {G.number_of_edges()}\")\n",
    "\n",
    "# Compute the average degree of nodes in the network\n"
   ]
  },
  {
   "cell_type": "code",
   "execution_count": null,
   "id": "74a1bc5d-d5c8-4de1-944b-61ae77e6c845",
   "metadata": {
    "colab": {
     "base_uri": "https://localhost:8080/",
     "height": 440
    },
    "executionInfo": {
     "elapsed": 268,
     "status": "ok",
     "timestamp": 1750756599771,
     "user": {
      "displayName": "Jishan Duan",
      "userId": "09850316093817896654"
     },
     "user_tz": -60
    },
    "id": "74a1bc5d-d5c8-4de1-944b-61ae77e6c845",
    "outputId": "6ef0546e-f91d-49a4-a57c-0ae0710e8c2b"
   },
   "outputs": [],
   "source": [
    "# Plot the graph for visualisation\n",
    "plt.figure(figsize=(5, 5))\n",
    "pos = nx.random_layout(G, seed=127) # We select random layout for nodes\n",
    "nx.draw_networkx_nodes(G, pos, node_color='black', node_size=100)\n",
    "nx.draw_networkx_edges(\n",
    "    G,\n",
    "    pos,\n",
    "    edge_color='gray',\n",
    "    width=0.7\n",
    ")"
   ]
  },
  {
   "cell_type": "code",
   "execution_count": null,
   "id": "dbef2726-7d57-4fe2-934d-f9be20e1a66b",
   "metadata": {
    "colab": {
     "base_uri": "https://localhost:8080/",
     "height": 440
    },
    "executionInfo": {
     "elapsed": 201,
     "status": "ok",
     "timestamp": 1750756599973,
     "user": {
      "displayName": "Jishan Duan",
      "userId": "09850316093817896654"
     },
     "user_tz": -60
    },
    "id": "dbef2726-7d57-4fe2-934d-f9be20e1a66b",
    "outputId": "a017e0d8-8e1f-421f-c422-ba85e2f148eb"
   },
   "outputs": [],
   "source": [
    "# Is there a better way to visualise the network?\n",
    "plt.figure(figsize=(5, 5))\n",
    "pos = nx.spring_layout(G, seed=7)\n",
    "nx.draw_networkx_nodes(G, pos, node_color='black', node_size=100)\n",
    "nx.draw_networkx_edges(\n",
    "    G,\n",
    "    pos,\n",
    "    edge_color='gray',\n",
    "    width=0.7\n",
    ")"
   ]
  },
  {
   "cell_type": "code",
   "execution_count": null,
   "id": "f1bec878-f7b3-4d39-bdca-2424c5b0e090",
   "metadata": {
    "colab": {
     "base_uri": "https://localhost:8080/",
     "height": 424
    },
    "executionInfo": {
     "elapsed": 32,
     "status": "ok",
     "timestamp": 1750756600006,
     "user": {
      "displayName": "Jishan Duan",
      "userId": "09850316093817896654"
     },
     "user_tz": -60
    },
    "id": "f1bec878-f7b3-4d39-bdca-2424c5b0e090",
    "outputId": "9cebce73-90fb-4def-b163-0e8998e6de5b"
   },
   "outputs": [],
   "source": [
    "# We take the biggest connected component of the network for analysis\n",
    "G_giant = G.subgraph(max(nx.connected_components(G), key=len)).copy()\n",
    "\n",
    "# Relabel nodes in the Giant component from 1 to N, where N is the number of nodes in the giant component\n",
    "node_labels_old = list(G_giant.nodes())\n",
    "node_labels_new = list(range(0, len(node_labels_old) + 1))\n",
    "\n",
    "node_label_map = dict(zip(node_labels_old, node_labels_new))\n",
    "\n",
    "G_final = nx.relabel_nodes(G_giant, node_label_map)\n",
    "\n",
    "# We save the node mapping\n",
    "node_labels_df = pd.DataFrame({\n",
    "    'original_node_label': node_labels_old,\n",
    "    'new_node_label': [node_label_map[old_label] for old_label in node_labels_old]\n",
    "})\n",
    "node_labels_df"
   ]
  },
  {
   "cell_type": "code",
   "execution_count": null,
   "id": "e20edacf-fcc4-40d6-879a-0251d2d4bdba",
   "metadata": {
    "executionInfo": {
     "elapsed": 16,
     "status": "ok",
     "timestamp": 1750756600023,
     "user": {
      "displayName": "Jishan Duan",
      "userId": "09850316093817896654"
     },
     "user_tz": -60
    },
    "id": "e20edacf-fcc4-40d6-879a-0251d2d4bdba"
   },
   "outputs": [],
   "source": [
    "# Print the no of nodes, edges and the average degree in the giant component. Has the average degree changed?\n"
   ]
  },
  {
   "cell_type": "code",
   "execution_count": null,
   "id": "4c59fc52-86a4-4bed-b85f-32cb096b3bd6",
   "metadata": {
    "executionInfo": {
     "elapsed": 39,
     "status": "ok",
     "timestamp": 1750756600072,
     "user": {
      "displayName": "Jishan Duan",
      "userId": "09850316093817896654"
     },
     "user_tz": -60
    },
    "id": "4c59fc52-86a4-4bed-b85f-32cb096b3bd6"
   },
   "outputs": [],
   "source": [
    "# Now plot the giant component using force layout\n"
   ]
  },
  {
   "cell_type": "code",
   "execution_count": null,
   "id": "d5006af7-fa76-48d3-b368-f3229a1d77d8",
   "metadata": {
    "colab": {
     "base_uri": "https://localhost:8080/",
     "height": 770
    },
    "executionInfo": {
     "elapsed": 895,
     "status": "ok",
     "timestamp": 1750756600967,
     "user": {
      "displayName": "Jishan Duan",
      "userId": "09850316093817896654"
     },
     "user_tz": -60
    },
    "id": "d5006af7-fa76-48d3-b368-f3229a1d77d8",
    "outputId": "9909bbd6-933e-453b-9c10-eb6ddda66f69"
   },
   "outputs": [],
   "source": [
    "# We now compute the centrality metrics for nodes in the giant component\n",
    "\n",
    "# Degree centrality measures the number of connections a node has in the network.\n",
    "# It reflects how many immediate neighbours a node is connected to.\n",
    "degree_centrality = nx.degree_centrality(G_final)\n",
    "\n",
    "# Closeness Centrality measures how close a node is to all other nodes in the network.\n",
    "# It is defined as the reciprocal of the average shortest path length from a node to all others,\n",
    "# indicating how quickly a node can reach others.\n",
    "closeness_centrality = nx.closeness_centrality(G_final)\n",
    "\n",
    "# Betweenness Centrality measures the extent to which a node lies on paths between other nodes.\n",
    "# Nodes with high betweenness can act as bridges or bottlenecks in the network.\n",
    "betweenness_centrality = nx.betweenness_centrality(G_final)\n",
    "\n",
    "# Eigenvector Centrality assigns relative scores to all nodes based on the principle that connections\n",
    "# to high-scoring nodes contribute more to the score of the node.\n",
    "eigenvector_centrality = nx.eigenvector_centrality(G_final)\n",
    "\n",
    "centralities = {\n",
    "    \"Degree\": degree_centrality,\n",
    "    \"Closeness\": closeness_centrality,\n",
    "    \"Betweenness\": betweenness_centrality,\n",
    "    \"Eigenvector\": eigenvector_centrality\n",
    "}\n",
    "\n",
    "# We plot the distribution of the centralities\n",
    "fig, axs = plt.subplots(2, 2, figsize=(10, 8))\n",
    "axs = axs.flatten()\n",
    "\n",
    "#\n",
    "for i, (title, data) in enumerate(centralities.items()):\n",
    "    axs[i].hist(list(data.values()), bins=20)\n",
    "    axs[i].set_xlabel(f\"{title}\")\n",
    "    axs[i].set_ylabel(\"Freq\")\n",
    "    axs[i].grid(False)\n",
    "\n",
    "plt.tight_layout()\n",
    "plt.show()"
   ]
  },
  {
   "cell_type": "code",
   "execution_count": null,
   "id": "110c2c60-7115-47e1-a702-4c011f746532",
   "metadata": {
    "colab": {
     "base_uri": "https://localhost:8080/"
    },
    "executionInfo": {
     "elapsed": 6,
     "status": "ok",
     "timestamp": 1750756600971,
     "user": {
      "displayName": "Jishan Duan",
      "userId": "09850316093817896654"
     },
     "user_tz": -60
    },
    "id": "110c2c60-7115-47e1-a702-4c011f746532",
    "outputId": "85259874-65c5-429d-bb9f-642739874fa4"
   },
   "outputs": [],
   "source": [
    "# We store the centralities in a dataframe\n",
    "centrality_df = pd.merge(pd.DataFrame({\n",
    "    'node': list(degree_centrality.keys()),\n",
    "    'degree_centrality': list(degree_centrality.values()),\n",
    "    'closeness_centrality': list(closeness_centrality.values()),\n",
    "    'betweenness_centrality': list(betweenness_centrality.values()),\n",
    "    'eigenvector_centrality': list(eigenvector_centrality.values()),\n",
    "}),node_labels_df, left_on = 'node', right_on = 'new_node_label').drop(columns = ['new_node_label'])\n",
    "print(centrality_df.sort_values(by='degree_centrality', ascending=False).reset_index(drop = True).head(5))"
   ]
  },
  {
   "cell_type": "code",
   "execution_count": null,
   "id": "8e42be7d-80a0-433f-ad0f-7e28a0c4dd02",
   "metadata": {
    "colab": {
     "base_uri": "https://localhost:8080/",
     "height": 612
    },
    "executionInfo": {
     "elapsed": 1239,
     "status": "ok",
     "timestamp": 1750756602209,
     "user": {
      "displayName": "Jishan Duan",
      "userId": "09850316093817896654"
     },
     "user_tz": -60
    },
    "id": "8e42be7d-80a0-433f-ad0f-7e28a0c4dd02",
    "outputId": "9d9d3dbf-2190-401d-e3a8-da4cc9166ff0"
   },
   "outputs": [],
   "source": [
    "# Plot the network again and colour nodes based on their degree centrality\n",
    "node_color = [degree_centrality[node] for node in G_final.nodes()]\n",
    "\n",
    "pos = nx.spring_layout(\n",
    "    G_final,\n",
    "    seed=7,\n",
    "    k=0.01,\n",
    "    iterations = 100\n",
    ")\n",
    "\n",
    "fig, ax = plt.subplots(figsize=(15, 7))\n",
    "plt.rcParams.update({'font.size': 22})\n",
    "nodes = nx.draw_networkx_nodes(\n",
    "    G_final, pos,\n",
    "    node_color=node_color,\n",
    "    cmap=plt.cm.viridis,\n",
    "    node_size=500,\n",
    "    alpha = 0.75,\n",
    "    ax=ax\n",
    ")\n",
    "nx.draw_networkx_edges(G_final, pos, alpha=0.3, ax=ax)\n",
    "nx.draw_networkx_labels(G_final, pos, font_size=8, font_color='white')\n",
    "\n",
    "sm = plt.cm.ScalarMappable(\n",
    "    cmap=plt.cm.viridis,\n",
    "    norm=plt.Normalize(vmin=min(node_color), vmax=max(node_color))\n",
    ")\n",
    "\n",
    "cbar = fig.colorbar(sm, ax=ax)\n",
    "ax.axis('off')\n",
    "plt.tight_layout()\n",
    "plt.show()"
   ]
  },
  {
   "cell_type": "code",
   "execution_count": null,
   "id": "39faac17-0cc0-4f41-93d4-65c1be820651",
   "metadata": {
    "executionInfo": {
     "elapsed": 1,
     "status": "ok",
     "timestamp": 1750756602211,
     "user": {
      "displayName": "Jishan Duan",
      "userId": "09850316093817896654"
     },
     "user_tz": -60
    },
    "id": "39faac17-0cc0-4f41-93d4-65c1be820651"
   },
   "outputs": [],
   "source": [
    "# Sort nodes based on closeness centrality and print the top 5 nodes\n"
   ]
  },
  {
   "cell_type": "code",
   "execution_count": null,
   "id": "8fb5f2be-f8ef-4582-ae81-4862c53b7553",
   "metadata": {
    "executionInfo": {
     "elapsed": 0,
     "status": "ok",
     "timestamp": 1750756602212,
     "user": {
      "displayName": "Jishan Duan",
      "userId": "09850316093817896654"
     },
     "user_tz": -60
    },
    "id": "8fb5f2be-f8ef-4582-ae81-4862c53b7553"
   },
   "outputs": [],
   "source": [
    "# Plot the network again and colour nodes based on their closeness centrality - does it look different?\n"
   ]
  },
  {
   "cell_type": "code",
   "execution_count": null,
   "id": "34a71ac0-3754-4996-9886-fc8b0704dd8b",
   "metadata": {
    "colab": {
     "base_uri": "https://localhost:8080/",
     "height": 0
    },
    "executionInfo": {
     "elapsed": 35172,
     "status": "ok",
     "timestamp": 1750756637385,
     "user": {
      "displayName": "Jishan Duan",
      "userId": "09850316093817896654"
     },
     "user_tz": -60
    },
    "id": "34a71ac0-3754-4996-9886-fc8b0704dd8b",
    "outputId": "37ed497c-57ee-48e9-f38c-22b7af7988e8"
   },
   "outputs": [],
   "source": [
    "# For all 75 villages compute the degree assortativity of the network\n",
    "# Assortativity in a network tells us if there is any preferential attachment in the network.\n",
    "# For details see : https://arxiv.org/pdf/cond-mat/0209450\n",
    "assortativity_village_list = []\n",
    "\n",
    "for vilno in range(1, 78):  # Villages are numbered from 1 to 77 (Village 13 and 22 are missing)\n",
    "    try:\n",
    "        # Load adjacency matrix\n",
    "        file_path = f\"1_Network Data/Adjacency Matrices/adj_allVillageRelationships_HH_vilno_{vilno}.csv\"\n",
    "        encoded_file_path = quote(file_path)\n",
    "        adj_df = pd.read_csv(url+encoded_file_path, header=None)\n",
    "        adj_matrix = adj_df.values\n",
    "\n",
    "        # Build networks - get the largest connected component\n",
    "        G_copy = G.subgraph(max(nx.connected_components(nx.from_numpy_array(adj_matrix)), key=len)).copy()\n",
    "\n",
    "        # Compute the assortative mixing based on node degrees\n",
    "        degrees = {node: degree\n",
    "             for node, degree\n",
    "             in G_copy.degree}\n",
    "        nx.set_node_attributes(G_copy, values=degrees, name='degree')\n",
    "        # Compute assortative mixing based on node degrees\n",
    "        assortativity = nx.attribute_assortativity_coefficient(G_copy,'degree')\n",
    "        assortativity_village_list.append(\n",
    "            pd.DataFrame({\"village_ID\": [vilno], \"assortativity\": [assortativity]})\n",
    "            )\n",
    "    except Exception as e:\n",
    "        print(f\"Error in village {vilno}: {e}\")\n",
    "        continue\n",
    "\n",
    "    # Combine results\n",
    "assortativity_df = pd.concat(assortativity_village_list, ignore_index=True)\n",
    "\n",
    "# Plot the assortitative coefficient of all the villages\n",
    "plt.rcParams.update({'font.size': 22})\n",
    "assortativity_df.plot(\n",
    "    kind='scatter',\n",
    "    x='village_ID',\n",
    "    y='assortativity',\n",
    "    color='skyblue',\n",
    "    s=25\n",
    ")\n",
    "\n",
    "for i, row in assortativity_df.iterrows():\n",
    "    plt.text(row['village_ID']+1, row['assortativity']+0.0001, str(round(row['village_ID'])),\n",
    "             fontsize=10, ha='right', va='bottom')"
   ]
  },
  {
   "cell_type": "code",
   "execution_count": null,
   "id": "3831c9ba-fe50-41ba-aa76-076a56e78919",
   "metadata": {
    "colab": {
     "base_uri": "https://localhost:8080/",
     "height": 0
    },
    "executionInfo": {
     "elapsed": 1237,
     "status": "ok",
     "timestamp": 1750756638620,
     "user": {
      "displayName": "Jishan Duan",
      "userId": "09850316093817896654"
     },
     "user_tz": -60
    },
    "id": "3831c9ba-fe50-41ba-aa76-076a56e78919",
    "outputId": "a0bb83c3-04f5-4909-eb4f-330457c92eee"
   },
   "outputs": [],
   "source": [
    "# Now we add characteristics of households to the centrality dataframe\n",
    "# First read in the demographics data\n",
    "demographics_path = \"2_Demographics and Outcomes/household_characteristics.dta\"\n",
    "encoded_demographics_path = quote(demographics_path)\n",
    "demographics_df = pd.read_stata(url+encoded_demographics_path)\n",
    "# Filter for village 1\n",
    "demographics_v1 = demographics_df[demographics_df['village']==1].copy()\n",
    "demographics_v1"
   ]
  },
  {
   "cell_type": "code",
   "execution_count": null,
   "id": "50aef62f-1aab-4b5a-9c93-ff6f06e1d24f",
   "metadata": {
    "colab": {
     "base_uri": "https://localhost:8080/",
     "height": 0
    },
    "executionInfo": {
     "elapsed": 21,
     "status": "ok",
     "timestamp": 1750756638641,
     "user": {
      "displayName": "Jishan Duan",
      "userId": "09850316093817896654"
     },
     "user_tz": -60
    },
    "id": "50aef62f-1aab-4b5a-9c93-ff6f06e1d24f",
    "outputId": "dcb2f89a-dcb9-45b4-935e-3bc02e6d4d5d"
   },
   "outputs": [],
   "source": [
    "# Join demographics data with the centrality dataframe\n",
    "# We have to match the node IDs\n",
    "demographics_v1['adjusted_key'] = demographics_v1['adjmatrix_key'] - 1\n",
    "node_centrality_and_demographics = pd.merge(\n",
    "    centrality_df,\n",
    "    demographics_v1,\n",
    "    left_on='original_node_label', right_on='adjusted_key', how='left'\n",
    ")\n",
    "node_centrality_and_demographics"
   ]
  },
  {
   "cell_type": "code",
   "execution_count": null,
   "id": "c82b3b5a-725b-4cdd-9ac6-e865cbf20f4e",
   "metadata": {
    "colab": {
     "base_uri": "https://localhost:8080/",
     "height": 0
    },
    "executionInfo": {
     "elapsed": 127,
     "status": "ok",
     "timestamp": 1750756638769,
     "user": {
      "displayName": "Jishan Duan",
      "userId": "09850316093817896654"
     },
     "user_tz": -60
    },
    "id": "c82b3b5a-725b-4cdd-9ac6-e865cbf20f4e",
    "outputId": "65bc6414-33fd-4ef9-c6a0-7ccc3954ed3b"
   },
   "outputs": [],
   "source": [
    "# Get the average degree centrality of leaders and non-leaders\n",
    "grp_col = 'degree_centrality'\n",
    "group_by_leader_status = node_centrality_and_demographics.groupby('leader')[grp_col].agg(['mean', 'std']).reset_index()\n",
    "\n",
    "plt.rcParams.update({'font.size': 22})\n",
    "plt.bar(\n",
    "    group_by_leader_status['leader'],\n",
    "    group_by_leader_status['mean'],\n",
    "    yerr=group_by_leader_status['std'],\n",
    "    capsize=5,\n",
    "    color=['grey', 'indianred'],\n",
    "    tick_label=['Non-leader', 'Leader']\n",
    ")\n",
    "\n",
    "plt.xticks([0, 1])\n",
    "plt.ylabel(grp_col)\n",
    "plt.tight_layout()\n",
    "plt.show()"
   ]
  },
  {
   "cell_type": "code",
   "execution_count": null,
   "id": "5893840d-74a2-4eb3-8bc8-424747572dfd",
   "metadata": {
    "executionInfo": {
     "elapsed": 1,
     "status": "ok",
     "timestamp": 1750756638770,
     "user": {
      "displayName": "Jishan Duan",
      "userId": "09850316093817896654"
     },
     "user_tz": -60
    },
    "id": "5893840d-74a2-4eb3-8bc8-424747572dfd"
   },
   "outputs": [],
   "source": [
    "# Compute the average closeness centrality of leaders and non-leaders\n"
   ]
  },
  {
   "cell_type": "code",
   "execution_count": null,
   "id": "efc1d3c6-eb52-4dae-a785-4587f451dcbd",
   "metadata": {
    "executionInfo": {
     "elapsed": 3,
     "status": "ok",
     "timestamp": 1750756638773,
     "user": {
      "displayName": "Jishan Duan",
      "userId": "09850316093817896654"
     },
     "user_tz": -60
    },
    "id": "efc1d3c6-eb52-4dae-a785-4587f451dcbd"
   },
   "outputs": [],
   "source": [
    "# Define diffusion model  -  add a toy example in the slides - match to code block\n",
    "# Explain the parameters in comment block above\n",
    "def run_simulation(G_final,N,T,qN,qP,pC,seed_nodes,beta,seed=42):\n",
    "\n",
    "    # Initialise the node sets\n",
    "    np.random.seed(seed)\n",
    "    informed_nodes = np.zeros(N)\n",
    "    participant_nodes = np.zeros(N)\n",
    "\n",
    "    # 0 - uninformed node, 1 - informed node\n",
    "    informed_nodes[seed_nodes] = 1\n",
    "\n",
    "    # We extract the informed node set. We do this because each node has only one shot at adopting microfinance\n",
    "    newly_informed_nodes_list = seed_nodes\n",
    "\n",
    "    infection_rate = []\n",
    "\n",
    "    for t in range(1,T):\n",
    "\n",
    "        participant_node_list = []\n",
    "\n",
    "        # Adoption process\n",
    "        for newly_informed_node in newly_informed_nodes_list:\n",
    "            neighbours = list(G_final.neighbors(newly_informed_node))\n",
    "\n",
    "            # We transform node characteristics and neighbour effects into probability of adoption using a logistic function\n",
    "            if np.random.rand() <= 1/(1 + np.exp (-(beta[0]+ beta[1]*pC[newly_informed_node] + beta[2]*sum(participant_nodes[neighbours])))):\n",
    "                participant_node_list.append(newly_informed_node)\n",
    "\n",
    "        participant_nodes[participant_node_list] = 1\n",
    "\n",
    "        infection_rate.append(sum(participant_nodes)/N)\n",
    "\n",
    "        informed_nodes[newly_informed_nodes_list] = 1\n",
    "        informed_nodes_list = np.where(informed_nodes == 1)[0]\n",
    "\n",
    "        newly_informed_nodes_list = []\n",
    "\n",
    "        # Transmission process\n",
    "        for informed_node in informed_nodes_list:\n",
    "\n",
    "            if (participant_nodes[informed_node] == 1 and np.random.rand() <= qP) or (participant_nodes[informed_node] == 0 and np.random.rand() <= qN) :\n",
    "                # If the node is not already informed, it gets added to the newly informed list\n",
    "                newly_informed_nodes_list.extend([\n",
    "                    n for n in G_final.neighbors(informed_node)\n",
    "                    if informed_nodes[n] == 0])\n",
    "\n",
    "    return infection_rate,informed_nodes,participant_nodes"
   ]
  },
  {
   "cell_type": "code",
   "execution_count": null,
   "id": "0e7c99c2-2f0a-4b03-b48d-6572563e68d6",
   "metadata": {
    "colab": {
     "base_uri": "https://localhost:8080/",
     "height": 0
    },
    "executionInfo": {
     "elapsed": 2896,
     "status": "ok",
     "timestamp": 1750756641670,
     "user": {
      "displayName": "Jishan Duan",
      "userId": "09850316093817896654"
     },
     "user_tz": -60
    },
    "id": "0e7c99c2-2f0a-4b03-b48d-6572563e68d6",
    "outputId": "c26b53b5-6b60-4d64-e7bd-cdabab124bb7"
   },
   "outputs": [],
   "source": [
    "np.random.seed(12)\n",
    "N = G_final.number_of_nodes()  # number of individuals\n",
    "T = 100\n",
    "qN = 0.01  # probability that a non-taker transmits info\n",
    "qP = 0.05  # probability that a taker transmits info\n",
    "pC = np.random.randint(0, 2, size=N) # randomly generate household characteristics\n",
    "f= 0.05\n",
    "beta = np.array([0, 0, 0.1])\n",
    "\n",
    "infection_rate_random = []\n",
    "for i in range(100):\n",
    "    random_seed = np.random.randint(0, N, round(f * N))\n",
    "    infection_rate_rand, informed_nodes_rand, participant_nodes_rand = run_simulation(G_final,N,T,qN,qP,pC,random_seed,beta)\n",
    "\n",
    "    infection_rate_random.append(infection_rate_rand)\n",
    "\n",
    "mean_infection_rate_random = np.mean(np.array(infection_rate_random), axis=0)\n",
    "std_infection_rate_random = np.std(np.array(infection_rate_random), axis=0)\n",
    "\n",
    "\n",
    "\n",
    "fig, axes = plt.subplots(1, 2, figsize=(15, 6))\n",
    "plt.rcParams.update({'font.size': 18})\n",
    "node_colors = ['indianred' if participant_nodes_rand[i] == 1 else 'black' for i in range(N)]\n",
    "pos = nx.spring_layout(G_final, seed=7, k=0.01, iterations=100)\n",
    "\n",
    "#  Plot the rate of uptake in the network\n",
    "axes[0].errorbar(\n",
    "    np.arange(len(mean_infection_rate_random)),\n",
    "    mean_infection_rate_random,\n",
    "    yerr=std_infection_rate_random,\n",
    "    fmt='-o',\n",
    "    capsize=5,\n",
    "    label='random',\n",
    "    elinewidth=1\n",
    ")\n",
    "\n",
    "axes[0].set_xlabel('T')\n",
    "axes[0].set_ylabel('Uptake Rate')\n",
    "axes[0].legend()\n",
    "\n",
    "# Plot the final state of the network\n",
    "nx.draw_networkx_nodes(G_final, pos, node_color=node_colors, node_size=300, alpha=0.7, ax=axes[1])\n",
    "nx.draw_networkx_edges(G_final, pos, edge_color='gray', ax=axes[1])\n",
    "axes[1].set_title(\"Red = Participant; Black = Not a participant\")\n",
    "axes[1].axis('off')\n",
    "\n",
    "plt.tight_layout()\n",
    "plt.show()"
   ]
  }
 ],
 "metadata": {
  "colab": {
   "provenance": []
  },
  "kernelspec": {
   "display_name": "Python 3 (ipykernel)",
   "language": "python",
   "name": "python3"
  },
  "language_info": {
   "codemirror_mode": {
    "name": "ipython",
    "version": 3
   },
   "file_extension": ".py",
   "mimetype": "text/x-python",
   "name": "python",
   "nbconvert_exporter": "python",
   "pygments_lexer": "ipython3",
   "version": "3.9.18"
  }
 },
 "nbformat": 4,
 "nbformat_minor": 5
}
